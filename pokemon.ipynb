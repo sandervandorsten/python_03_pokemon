{
 "cells": [
  {
   "cell_type": "markdown",
   "metadata": {},
   "source": [
    "# Pokemon Data Analytics challenge\n",
    "\n",
    "datasource: https://www.kaggle.com/rounakbanik/pokemon/data\n",
    "\n",
    "\n",
    "- **opdracht 1**: kies ten minste 4 relaties die je wilt visualiseren/metrics over wilt berekenen, zoals vraag q1 heronder\n",
    "    - licht elke vraag toe (waarom deze vraag, mag kort in 2 zinnnen)\n",
    "    - schrijf uit wat je 'ziet' in de data\n",
    "    - trek, wanneer mogelijk, een conclusie, of bespreek wat voor iets je extra in beschouwing zou moeten nemen\n",
    "- **opdracht 2**: Kies een wat grotere vraag die je wilt beantwoorden, bijvoorbeeld:\n",
    "    - Is it possible to build a classifier to identify legendary Pokemon?\n",
    "    - Can you build a Pokemon dream team? A team of 6 Pokemon that inflicts the most damage while remaining relatively impervious to any other team of 6 Pokemon.\n",
    "        - wat een dreamteam is mag je zelf verzinnen, je kunt natuurlijk ook voor inspiratie daarover het internet op gaan\n",
    "\n",
    "eisen van de opdracht:\n",
    "- schrijf je data pipeline componenten netjes in functies\n",
    "- probeer generieke data processing 'naar voren' te halen in je data pipeline\n",
    "- probeer je dataverwerking te scheiden van je plotting waar mogelijk"
   ]
  },
  {
   "cell_type": "code",
   "execution_count": 4,
   "metadata": {},
   "outputs": [],
   "source": [
    "import pandas as pd\n",
    "import numpy as np\n",
    "import seaborn as sns"
   ]
  },
  {
   "cell_type": "code",
   "execution_count": 2,
   "metadata": {},
   "outputs": [],
   "source": [
    "df = pd.read_csv('data/pokemon.csv')"
   ]
  },
  {
   "cell_type": "code",
   "execution_count": 6,
   "metadata": {},
   "outputs": [
    {
     "data": {
      "text/plain": [
       "Index(['abilities', 'against_bug', 'against_dark', 'against_dragon',\n",
       "       'against_electric', 'against_fairy', 'against_fight', 'against_fire',\n",
       "       'against_flying', 'against_ghost', 'against_grass', 'against_ground',\n",
       "       'against_ice', 'against_normal', 'against_poison', 'against_psychic',\n",
       "       'against_rock', 'against_steel', 'against_water', 'attack',\n",
       "       'base_egg_steps', 'base_happiness', 'base_total', 'capture_rate',\n",
       "       'classfication', 'defense', 'experience_growth', 'height_m', 'hp',\n",
       "       'japanese_name', 'name', 'percentage_male', 'pokedex_number',\n",
       "       'sp_attack', 'sp_defense', 'speed', 'type1', 'type2', 'weight_kg',\n",
       "       'generation', 'is_legendary'],\n",
       "      dtype='object')"
      ]
     },
     "execution_count": 6,
     "metadata": {},
     "output_type": "execute_result"
    }
   ],
   "source": [
    "df.columns"
   ]
  },
  {
   "cell_type": "code",
   "execution_count": 3,
   "metadata": {},
   "outputs": [],
   "source": [
    "def filter_columns(dataf):\n",
    "    keep_columns = [\n",
    "        \"pokedex_number\",\n",
    "        \"name\",\n",
    "        \"attack\",\n",
    "        \"weight_kg\",\n",
    "        \"generation\",\n",
    "        \"abilities\"\n",
    "    ]\n",
    "    return dataf[keep_columns]\n",
    "\n",
    "def filter_rows(dataf):\n",
    "    return (dataf\n",
    "            .loc[lambda d: d['generation'] == 1]\n",
    "           )\n",
    "\n",
    "def change_dtypes(dataf):\n",
    "    return dataf\n",
    "\n",
    "def preprocess_columns(dataf):\n",
    "    return dataf"
   ]
  },
  {
   "cell_type": "code",
   "execution_count": 5,
   "metadata": {},
   "outputs": [
    {
     "data": {
      "text/html": [
       "<div>\n",
       "<style scoped>\n",
       "    .dataframe tbody tr th:only-of-type {\n",
       "        vertical-align: middle;\n",
       "    }\n",
       "\n",
       "    .dataframe tbody tr th {\n",
       "        vertical-align: top;\n",
       "    }\n",
       "\n",
       "    .dataframe thead th {\n",
       "        text-align: right;\n",
       "    }\n",
       "</style>\n",
       "<table border=\"1\" class=\"dataframe\">\n",
       "  <thead>\n",
       "    <tr style=\"text-align: right;\">\n",
       "      <th></th>\n",
       "      <th>pokedex_number</th>\n",
       "      <th>name</th>\n",
       "      <th>attack</th>\n",
       "      <th>weight_kg</th>\n",
       "      <th>generation</th>\n",
       "      <th>abilities</th>\n",
       "    </tr>\n",
       "  </thead>\n",
       "  <tbody>\n",
       "    <tr>\n",
       "      <th>0</th>\n",
       "      <td>1</td>\n",
       "      <td>Bulbasaur</td>\n",
       "      <td>49</td>\n",
       "      <td>6.9</td>\n",
       "      <td>1</td>\n",
       "      <td>['Overgrow', 'Chlorophyll']</td>\n",
       "    </tr>\n",
       "    <tr>\n",
       "      <th>1</th>\n",
       "      <td>2</td>\n",
       "      <td>Ivysaur</td>\n",
       "      <td>62</td>\n",
       "      <td>13.0</td>\n",
       "      <td>1</td>\n",
       "      <td>['Overgrow', 'Chlorophyll']</td>\n",
       "    </tr>\n",
       "    <tr>\n",
       "      <th>2</th>\n",
       "      <td>3</td>\n",
       "      <td>Venusaur</td>\n",
       "      <td>100</td>\n",
       "      <td>100.0</td>\n",
       "      <td>1</td>\n",
       "      <td>['Overgrow', 'Chlorophyll']</td>\n",
       "    </tr>\n",
       "    <tr>\n",
       "      <th>3</th>\n",
       "      <td>4</td>\n",
       "      <td>Charmander</td>\n",
       "      <td>52</td>\n",
       "      <td>8.5</td>\n",
       "      <td>1</td>\n",
       "      <td>['Blaze', 'Solar Power']</td>\n",
       "    </tr>\n",
       "    <tr>\n",
       "      <th>4</th>\n",
       "      <td>5</td>\n",
       "      <td>Charmeleon</td>\n",
       "      <td>64</td>\n",
       "      <td>19.0</td>\n",
       "      <td>1</td>\n",
       "      <td>['Blaze', 'Solar Power']</td>\n",
       "    </tr>\n",
       "    <tr>\n",
       "      <th>...</th>\n",
       "      <td>...</td>\n",
       "      <td>...</td>\n",
       "      <td>...</td>\n",
       "      <td>...</td>\n",
       "      <td>...</td>\n",
       "      <td>...</td>\n",
       "    </tr>\n",
       "    <tr>\n",
       "      <th>146</th>\n",
       "      <td>147</td>\n",
       "      <td>Dratini</td>\n",
       "      <td>64</td>\n",
       "      <td>3.3</td>\n",
       "      <td>1</td>\n",
       "      <td>['Shed Skin', 'Marvel Scale']</td>\n",
       "    </tr>\n",
       "    <tr>\n",
       "      <th>147</th>\n",
       "      <td>148</td>\n",
       "      <td>Dragonair</td>\n",
       "      <td>84</td>\n",
       "      <td>16.5</td>\n",
       "      <td>1</td>\n",
       "      <td>['Shed Skin', 'Marvel Scale']</td>\n",
       "    </tr>\n",
       "    <tr>\n",
       "      <th>148</th>\n",
       "      <td>149</td>\n",
       "      <td>Dragonite</td>\n",
       "      <td>134</td>\n",
       "      <td>210.0</td>\n",
       "      <td>1</td>\n",
       "      <td>['Inner Focus', 'Multiscale']</td>\n",
       "    </tr>\n",
       "    <tr>\n",
       "      <th>149</th>\n",
       "      <td>150</td>\n",
       "      <td>Mewtwo</td>\n",
       "      <td>150</td>\n",
       "      <td>122.0</td>\n",
       "      <td>1</td>\n",
       "      <td>['Pressure', 'Unnerve']</td>\n",
       "    </tr>\n",
       "    <tr>\n",
       "      <th>150</th>\n",
       "      <td>151</td>\n",
       "      <td>Mew</td>\n",
       "      <td>100</td>\n",
       "      <td>4.0</td>\n",
       "      <td>1</td>\n",
       "      <td>['Synchronize']</td>\n",
       "    </tr>\n",
       "  </tbody>\n",
       "</table>\n",
       "<p>151 rows × 6 columns</p>\n",
       "</div>"
      ],
      "text/plain": [
       "     pokedex_number        name  attack  weight_kg  generation  \\\n",
       "0                 1   Bulbasaur      49        6.9           1   \n",
       "1                 2     Ivysaur      62       13.0           1   \n",
       "2                 3    Venusaur     100      100.0           1   \n",
       "3                 4  Charmander      52        8.5           1   \n",
       "4                 5  Charmeleon      64       19.0           1   \n",
       "..              ...         ...     ...        ...         ...   \n",
       "146             147     Dratini      64        3.3           1   \n",
       "147             148   Dragonair      84       16.5           1   \n",
       "148             149   Dragonite     134      210.0           1   \n",
       "149             150      Mewtwo     150      122.0           1   \n",
       "150             151         Mew     100        4.0           1   \n",
       "\n",
       "                         abilities  \n",
       "0      ['Overgrow', 'Chlorophyll']  \n",
       "1      ['Overgrow', 'Chlorophyll']  \n",
       "2      ['Overgrow', 'Chlorophyll']  \n",
       "3         ['Blaze', 'Solar Power']  \n",
       "4         ['Blaze', 'Solar Power']  \n",
       "..                             ...  \n",
       "146  ['Shed Skin', 'Marvel Scale']  \n",
       "147  ['Shed Skin', 'Marvel Scale']  \n",
       "148  ['Inner Focus', 'Multiscale']  \n",
       "149        ['Pressure', 'Unnerve']  \n",
       "150                ['Synchronize']  \n",
       "\n",
       "[151 rows x 6 columns]"
      ]
     },
     "execution_count": 5,
     "metadata": {},
     "output_type": "execute_result"
    }
   ],
   "source": [
    "clean_df = (df\n",
    "            .pipe(filter_columns)\n",
    "            .pipe(filter_rows)\n",
    "            .pipe(change_dtypes)\n",
    "            .pipe(preprocess_columns)\n",
    "           )\n",
    "clean_df"
   ]
  },
  {
   "cell_type": "markdown",
   "metadata": {},
   "source": [
    "# example question: what is the relation between weight and attack?\n",
    "\n",
    "- hieronder alleen een stukje code met een voorbeeld voor scheiden van dataverwerking van plotting. mijn analyse op 'wat zie je' ontbreekt"
   ]
  },
  {
   "cell_type": "code",
   "execution_count": 27,
   "metadata": {},
   "outputs": [
    {
     "data": {
      "text/plain": [
       "<AxesSubplot:xlabel='weight_kg', ylabel='attack'>"
      ]
     },
     "execution_count": 27,
     "metadata": {},
     "output_type": "execute_result"
    },
    {
     "data": {
      "image/png": "[encoded data removed]",
      "text/plain": [
       "<Figure size 432x288 with 1 Axes>"
      ]
     },
     "metadata": {
      "needs_background": "light"
     },
     "output_type": "display_data"
    }
   ],
   "source": [
    "def remove_fatties(dataf, fat=200):\n",
    "    return dataf.loc[lambda d: d['weight_kg'] < fat]\n",
    "\n",
    "(clean_df\n",
    " .pipe(remove_fatties, fat=300)\n",
    " .plot(x='weight_kg',y='attack', kind='scatter')\n",
    ")"
   ]
  }
 ],
 "metadata": {
  "kernelspec": {
   "display_name": "Python 3",
   "language": "python",
   "name": "python3"
  },
  "language_info": {
   "codemirror_mode": {
    "name": "ipython",
    "version": 3
   },
   "file_extension": ".py",
   "mimetype": "text/x-python",
   "name": "python",
   "nbconvert_exporter": "python",
   "pygments_lexer": "ipython3",
   "version": "3.7.5"
  }
 },
 "nbformat": 4,
 "nbformat_minor": 4
}
